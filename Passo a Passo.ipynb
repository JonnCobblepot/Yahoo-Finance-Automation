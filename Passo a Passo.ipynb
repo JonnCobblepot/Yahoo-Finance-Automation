{
 "cells": [
  {
   "cell_type": "markdown",
   "metadata": {},
   "source": [
    "# Avaliação Técnica - Vaga Software Engineer Intern 2025.1 - Acorn Advisory"
   ]
  },
  {
   "cell_type": "markdown",
   "metadata": {},
   "source": [
    "- Este arquivo conterá as informações da Avaliação Técnica pedida, além do desenvolvemento do passo a passo do desafio técnico, mostrando a progressão até a conclusão do que foi solicitado.\n",
    "\n",
    "- Este é a 2ª e penúltima fase do processo seletivo.\n",
    "\n",
    "- Consiste de uma pergunta e um desafio técnico a ser enviado num formulário.\n",
    "\n",
    "- A data para a realização deste desafio e envio do formulário é até 27/01/2025 às 14:00.\n"
   ]
  },
  {
   "cell_type": "markdown",
   "metadata": {},
   "source": [
    "```py\n",
    "```\n",
    "### Avaliação:\n",
    "\n",
    "Durante uma reunião semanal, um dos analistas de M&A da Acorn mencionou uma dificuldade operacional recorrente: a tarefa de inserir manualmente dados de uma planilha como input para buscas em um site de informações e coletar manualmente os resultados um a um. Essa atividade, repetitiva e manual, consome tempo e gera ineficiências no processo. Dado este cenário, descreva detalhadamente o que você faria para ajudar:\n"
   ]
  },
  {
   "cell_type": "markdown",
   "metadata": {},
   "source": []
  },
  {
   "cell_type": "markdown",
   "metadata": {},
   "source": [
    "```py\n",
    "```\n",
    "### Desafio Técnico\n",
    "\n",
    "Agora é hora de criar! Baseado no cenário acima, crie um projeto em Python que automatize um processo análogo ao descrito. Você deve escolher:\n",
    "\n",
    "1. Um site de buscas de informações para fazer a extração de dados;\n",
    "2. Um formato de input (deve ser uma planilha, mas a formatação dela fica a seu critério);\n",
    "3. Os dados a serem extraídos bem como o output.\n",
    "\n",
    "Ou seja, você irá simular uma tarefa comum de desenvolvimento de automações. Para isso, você deve fornecer **abaixo um link público de um repositório do GitHub** contendo:\n",
    "\n",
    "- Arquivo Readme;\n",
    "- Arquivo exemplo de input;\n",
    "- Arquivo(s) contendo o(s) código(s);\n",
    "- Executável .exe da automação;\n",
    "- Arquivo exemplo de output.\n",
    "\n",
    "Tudo será avaliado, então certifique-se de deixar tudo funcionando e bem explicado.\n",
    "\n",
    "OBS: Tenha em mente que você está simulando estar realizando uma tarefa para um analista de M&A, o qual não tem acesso a linguagens de programação instaladas, nem compiladores ou IDEs, por isso a importância do executável funcionando."
   ]
  },
  {
   "cell_type": "markdown",
   "metadata": {},
   "source": [
    "```py\n",
    "```\n",
    "### Passo a Passo do Desenvolvimento deste Projeto"
   ]
  }
 ],
 "metadata": {
  "language_info": {
   "name": "python"
  }
 },
 "nbformat": 4,
 "nbformat_minor": 2
}
