{
 "cells": [
  {
   "cell_type": "markdown",
   "metadata": {},
   "source": [
    "# Avaliação Técnica - Vaga Software Engineer Intern 2025.1 - Acorn Advisory"
   ]
  },
  {
   "cell_type": "markdown",
   "metadata": {},
   "source": [
    "- Este arquivo conterá as informações da Avaliação Técnica pedida, além do desenvolvemento do passo a passo do desafio técnico, mostrando a progressão até a conclusão do que foi solicitado.\n",
    "\n",
    "- Este é a 2ª e penúltima fase do processo seletivo.\n",
    "\n",
    "- Consiste de uma pergunta e um desafio técnico a ser enviado num formulário.\n",
    "\n",
    "- A data para a realização deste desafio e envio do formulário é até 27/01/2025 às 14:00.\n"
   ]
  },
  {
   "cell_type": "markdown",
   "metadata": {},
   "source": [
    "```py\n",
    "```\n",
    "### Avaliação:\n",
    "\n",
    "Durante uma reunião semanal, um dos analistas de M&A da Acorn mencionou uma dificuldade operacional recorrente: a tarefa de inserir manualmente dados de uma planilha como input para buscas em um site de informações e coletar manualmente os resultados um a um. Essa atividade, repetitiva e manual, consome tempo e gera ineficiências no processo. Dado este cenário, descreva detalhadamente o que você faria para ajudar:\n"
   ]
  },
  {
   "cell_type": "markdown",
   "metadata": {},
   "source": []
  },
  {
   "cell_type": "markdown",
   "metadata": {},
   "source": [
    "```py\n",
    "```\n",
    "### Desafio Técnico\n",
    "\n",
    "Agora é hora de criar! Baseado no cenário acima, crie um projeto em Python que automatize um processo análogo ao descrito. Você deve escolher:\n",
    "\n",
    "1. Um site de buscas de informações para fazer a extração de dados;\n",
    "2. Um formato de input (deve ser uma planilha, mas a formatação dela fica a seu critério);\n",
    "3. Os dados a serem extraídos bem como o output.\n",
    "\n",
    "Ou seja, você irá simular uma tarefa comum de desenvolvimento de automações. Para isso, você deve fornecer **abaixo um link público de um repositório do GitHub** contendo:\n",
    "\n",
    "- Arquivo Readme;\n",
    "- Arquivo exemplo de input;\n",
    "- Arquivo(s) contendo o(s) código(s);\n",
    "- Executável .exe da automação;\n",
    "- Arquivo exemplo de output.\n",
    "\n",
    "Tudo será avaliado, então certifique-se de deixar tudo funcionando e bem explicado.\n",
    "\n",
    "OBS: Tenha em mente que você está simulando estar realizando uma tarefa para um analista de M&A, o qual não tem acesso a linguagens de programação instaladas, nem compiladores ou IDEs, por isso a importância do executável funcionando."
   ]
  },
  {
   "cell_type": "markdown",
   "metadata": {},
   "source": [
    "```py\n",
    "```\n",
    "## Passo a Passo do Desenvolvimento deste Projeto\n",
    "```py\n",
    "```\n",
    "#### Escolha do Site de Busca e ferramenta para extração de dados\n",
    "\n",
    "Primeiramente, mesmo que seja um desafio de código, levando em conta uma situação real que ajudaria analistas de M&A, e visto que a Acorn Adviosory é uma empresa de consultoria financeira, eu escolhi utilizar um site de busca com a finalidade da empresa, ou seja, um site de busca sobre finanças e que esteja alinhado ao mercado. Tendo isso em vista, eu optei por utilizar o **Yahoo! Finance**.\n",
    "\n",
    "Para realizar a extração de dados do site, inicialmente eu tentei através de um pacote do Python chamado **Beautiful Soap**, o qual é um software utilizado para analisar documentos HTML e XML, facilitando bem no web scraping, entretanto estava dando muito erro de conexão SSL e como o Yahoo Finance é dinâmico e carregado pelo JavaScript, o Beautifulsoap não consegue acessar sozinho. Após essa tentativa tentei utilizar outro pacote, o **Selenium**, mas também davam os mesmos erros e não foi possível a extração dos dados financeiros.\n",
    "\n",
    "Pesquisei bastante e consegui encontrar uma ferramenta de código aberto que utiliza das APIs públicas do Yahoo Finance e a partir dela, conseguir extrair informações. Essa ferramenta é a **yfinance** e com ela consegui realizar meu objtivo inicialmente, acessando dados de ações, por exemplo, do Yahoo Finance. Com isso, tem-se:\n",
    "\n",
    "1 - Site de busca utilizado: **Yahoo! Finance**; https://finance.yahoo.com/\n",
    "\n",
    "2 - Linguagem de Programação utilizada: **Python**\n",
    "\n",
    "3 - Ferramenta de código aberto para extração dos dados: **yfinance** "
   ]
  },
  {
   "cell_type": "markdown",
   "metadata": {},
   "source": [
    "```py\n",
    "```\n",
    "#### A biblioteca yfinance: iniciando o código e extraindo o primeiro dado das ações\n",
    "\n",
    "Uma vantagem de utilizar a biblioteca **yfinance** é que ela já cuida de toda a comunicação com o site do Yahoo Finance, acessando os dados financeiros diretamente. Com isso não é preciso especificar as URLs manualmente no código, já fica tudo embutido na biblioteca. A única informação que deve-se fornecer no código seria o ticker, ou seja, a ação que seria verificada.\n",
    "\n",
    "O **yfinance** torna-se vantajoso pela facilidade de usá-lo não necessitando mexer com requests HTTP, e possui muitas funcões como o acesso ao histórico de preços, dividendos, a quantidade de negociação e demais dados de finanças, tudo em tempo real.\n",
    "\n",
    "Abaixo se encontra o código em desenvolvimento, no qual extraio o preço atual em tempo real da ação da Apple, cujo ticker é denominado AAPL. Para isso, inicialmente é preciso baixar a biblioteca yfinance"
   ]
  },
  {
   "cell_type": "code",
   "execution_count": 2,
   "metadata": {},
   "outputs": [
    {
     "name": "stdout",
     "output_type": "stream",
     "text": [
      "Defaulting to user installation because normal site-packages is not writeable\n",
      "Collecting yfinance\n",
      "  Using cached yfinance-0.2.52-py2.py3-none-any.whl.metadata (5.8 kB)\n",
      "Requirement already satisfied: pandas>=1.3.0 in c:\\users\\mateus\\appdata\\local\\packages\\pythonsoftwarefoundation.python.3.12_qbz5n2kfra8p0\\localcache\\local-packages\\python312\\site-packages (from yfinance) (2.2.2)\n",
      "Requirement already satisfied: numpy>=1.16.5 in c:\\users\\mateus\\appdata\\local\\packages\\pythonsoftwarefoundation.python.3.12_qbz5n2kfra8p0\\localcache\\local-packages\\python312\\site-packages (from yfinance) (2.1.0)\n",
      "Collecting requests>=2.31 (from yfinance)\n",
      "  Using cached requests-2.32.3-py3-none-any.whl.metadata (4.6 kB)\n",
      "Collecting multitasking>=0.0.7 (from yfinance)\n",
      "  Using cached multitasking-0.0.11-py3-none-any.whl.metadata (5.5 kB)\n",
      "Collecting lxml>=4.9.1 (from yfinance)\n",
      "  Using cached lxml-5.3.0-cp312-cp312-win_amd64.whl.metadata (3.9 kB)\n",
      "Requirement already satisfied: platformdirs>=2.0.0 in c:\\users\\mateus\\appdata\\local\\packages\\pythonsoftwarefoundation.python.3.12_qbz5n2kfra8p0\\localcache\\local-packages\\python312\\site-packages (from yfinance) (4.2.0)\n",
      "Requirement already satisfied: pytz>=2022.5 in c:\\users\\mateus\\appdata\\local\\packages\\pythonsoftwarefoundation.python.3.12_qbz5n2kfra8p0\\localcache\\local-packages\\python312\\site-packages (from yfinance) (2024.1)\n",
      "Collecting frozendict>=2.3.4 (from yfinance)\n",
      "  Using cached frozendict-2.4.6-py312-none-any.whl.metadata (23 kB)\n",
      "Collecting peewee>=3.16.2 (from yfinance)\n",
      "  Using cached peewee-3.17.8-py3-none-any.whl\n",
      "Collecting beautifulsoup4>=4.11.1 (from yfinance)\n",
      "  Using cached beautifulsoup4-4.12.3-py3-none-any.whl.metadata (3.8 kB)\n",
      "Collecting html5lib>=1.1 (from yfinance)\n",
      "  Using cached html5lib-1.1-py2.py3-none-any.whl.metadata (16 kB)\n",
      "Collecting soupsieve>1.2 (from beautifulsoup4>=4.11.1->yfinance)\n",
      "  Using cached soupsieve-2.6-py3-none-any.whl.metadata (4.6 kB)\n",
      "Requirement already satisfied: six>=1.9 in c:\\users\\mateus\\appdata\\local\\packages\\pythonsoftwarefoundation.python.3.12_qbz5n2kfra8p0\\localcache\\local-packages\\python312\\site-packages (from html5lib>=1.1->yfinance) (1.16.0)\n",
      "Collecting webencodings (from html5lib>=1.1->yfinance)\n",
      "  Using cached webencodings-0.5.1-py2.py3-none-any.whl.metadata (2.1 kB)\n",
      "Requirement already satisfied: python-dateutil>=2.8.2 in c:\\users\\mateus\\appdata\\local\\packages\\pythonsoftwarefoundation.python.3.12_qbz5n2kfra8p0\\localcache\\local-packages\\python312\\site-packages (from pandas>=1.3.0->yfinance) (2.9.0.post0)\n",
      "Requirement already satisfied: tzdata>=2022.7 in c:\\users\\mateus\\appdata\\local\\packages\\pythonsoftwarefoundation.python.3.12_qbz5n2kfra8p0\\localcache\\local-packages\\python312\\site-packages (from pandas>=1.3.0->yfinance) (2024.1)\n",
      "Collecting charset-normalizer<4,>=2 (from requests>=2.31->yfinance)\n",
      "  Downloading charset_normalizer-3.4.1-cp312-cp312-win_amd64.whl.metadata (36 kB)\n",
      "Collecting idna<4,>=2.5 (from requests>=2.31->yfinance)\n",
      "  Using cached idna-3.10-py3-none-any.whl.metadata (10 kB)\n",
      "Collecting urllib3<3,>=1.21.1 (from requests>=2.31->yfinance)\n",
      "  Downloading urllib3-2.3.0-py3-none-any.whl.metadata (6.5 kB)\n",
      "Collecting certifi>=2017.4.17 (from requests>=2.31->yfinance)\n",
      "  Using cached certifi-2024.12.14-py3-none-any.whl.metadata (2.3 kB)\n",
      "Using cached yfinance-0.2.52-py2.py3-none-any.whl (108 kB)\n",
      "Using cached beautifulsoup4-4.12.3-py3-none-any.whl (147 kB)\n",
      "Using cached frozendict-2.4.6-py312-none-any.whl (16 kB)\n",
      "Using cached html5lib-1.1-py2.py3-none-any.whl (112 kB)\n",
      "Using cached lxml-5.3.0-cp312-cp312-win_amd64.whl (3.8 MB)\n",
      "Using cached multitasking-0.0.11-py3-none-any.whl (8.5 kB)\n",
      "Using cached requests-2.32.3-py3-none-any.whl (64 kB)\n",
      "Using cached certifi-2024.12.14-py3-none-any.whl (164 kB)\n",
      "Downloading charset_normalizer-3.4.1-cp312-cp312-win_amd64.whl (102 kB)\n",
      "Using cached idna-3.10-py3-none-any.whl (70 kB)\n",
      "Using cached soupsieve-2.6-py3-none-any.whl (36 kB)\n",
      "Downloading urllib3-2.3.0-py3-none-any.whl (128 kB)\n",
      "Using cached webencodings-0.5.1-py2.py3-none-any.whl (11 kB)\n",
      "Installing collected packages: webencodings, peewee, multitasking, urllib3, soupsieve, lxml, idna, html5lib, frozendict, charset-normalizer, certifi, requests, beautifulsoup4, yfinance\n",
      "Successfully installed beautifulsoup4-4.12.3 certifi-2024.12.14 charset-normalizer-3.4.1 frozendict-2.4.6 html5lib-1.1 idna-3.10 lxml-5.3.0 multitasking-0.0.11 peewee-3.17.8 requests-2.32.3 soupsieve-2.6 urllib3-2.3.0 webencodings-0.5.1 yfinance-0.2.52\n"
     ]
    }
   ],
   "source": [
    "%pip install yfinance"
   ]
  },
  {
   "cell_type": "code",
   "execution_count": null,
   "metadata": {},
   "outputs": [
    {
     "name": "stdout",
     "output_type": "stream",
     "text": [
      "O preço atual da ação AAPL é: $222.78\n"
     ]
    }
   ],
   "source": [
    "\n",
    "#? Importa a biblioteca yfinance\n",
    "import yfinance as yf\n",
    "\n",
    "#! Função para obter o preço atual de ações\n",
    "def get_stock_price(ticker):\n",
    "\n",
    "    try:\n",
    "        # Baixa os dados do 'ticker' usando a API do yfinance\n",
    "        stock = yf.Ticker(ticker)\n",
    "        current_price = stock.info['currentPrice']  # Consegue o preço atual da ação 'ticker'\n",
    "        return current_price\n",
    "    \n",
    "    except Exception as e:\n",
    "        print(f\"Erro ao obter dados para {ticker}: {e}\")\n",
    "        return None\n",
    "\n",
    "#? Execução do código\n",
    "if __name__ == \"__main__\":\n",
    "    ticker = \"AAPL\"  # Exemplo do ticker: Apple\n",
    "    price = get_stock_price(ticker)\n",
    "\n",
    "    if price:\n",
    "        # Se conseguiu extrair o preço, exibe o preço atual\n",
    "        print(f\"O preço atual da ação {ticker} é: ${price}\")\n",
    "    else:\n",
    "        # Se não conseguiu realizar a operação, já o identifica\n",
    "        print(f\"Não foi possível obter o preço da ação {ticker}.\")"
   ]
  },
  {
   "cell_type": "markdown",
   "metadata": {},
   "source": [
    "Como pode-se ver acima, foi possível extrair como dado o preço atual da ação da Apple com sucesso. Além disso, analisando um pouco mais ao baixar o pacote yfinance que ele possui o Beautifulsoap embutido nele, e com isso é possível concluir que o que antes eu não conseguia realizar a extração de dados com ele sozinho, ao estar integrado na ferramenta yfinance, já torna o programa um sucesso.\n",
    "\n",
    "Como exemplo de ações a serem utilizadas para teste, tem-se por exemplo: **APPL**; **TSLA**; **MSFT**...\n",
    "\n",
    "Obs: APPL = Apple; TSLA = Tesla; MSFT = Microsoft"
   ]
  },
  {
   "cell_type": "markdown",
   "metadata": {},
   "source": [
    "```py\n",
    "```\n",
    "#### Acessando o Histórico de Preços das Ações em determinado período especificado\n",
    "\n",
    "A biblioteca yfinance se torna muito completa como funções de extração de diversos tipos de dados, entre eles, o histórico de preços das ações. Agora, além da função *\"get_stock_price(ticker)\"* que obtém o preço atual de determinada ação, também tem a função *\"get_historical_data(ticker, start_date, end_date)\"* que obtém o histórico de preços desta ação.\n",
    "\n",
    "Abaixo se encontra o código e o ticker de exemplo dessa fez utilizado foi a Microsoft (**MSFT**) e o período de busca que passei foram os primeiros 20 dias deste ano, os primeiros 20 dias de janeiro de 2025."
   ]
  },
  {
   "cell_type": "code",
   "execution_count": 4,
   "metadata": {},
   "outputs": [
    {
     "name": "stdout",
     "output_type": "stream",
     "text": [
      "O preço atual da ação MSFT é: $444.06\n",
      "Histórico de preços para MSFT:\n",
      "                                 Open        High         Low       Close  \\\n",
      "Date                                                                        \n",
      "2025-01-02 00:00:00-05:00  425.529999  426.070007  414.850006  418.579987   \n",
      "2025-01-03 00:00:00-05:00  421.079987  424.029999  419.540009  423.350006   \n",
      "2025-01-06 00:00:00-05:00  428.000000  434.320007  425.480011  427.850006   \n",
      "2025-01-07 00:00:00-05:00  429.000000  430.649994  420.799988  422.369995   \n",
      "2025-01-08 00:00:00-05:00  423.459991  426.970001  421.540009  424.559998   \n",
      "2025-01-10 00:00:00-05:00  424.630005  424.709991  415.019989  418.950012   \n",
      "2025-01-13 00:00:00-05:00  415.239990  418.500000  412.290009  417.190002   \n",
      "2025-01-14 00:00:00-05:00  417.809998  419.739990  410.720001  415.670013   \n",
      "2025-01-15 00:00:00-05:00  419.130005  428.149994  418.269989  426.309998   \n",
      "2025-01-16 00:00:00-05:00  428.700012  429.489990  424.390015  424.579987   \n",
      "2025-01-17 00:00:00-05:00  434.089996  434.480011  428.170013  429.029999   \n",
      "\n",
      "                             Volume  Dividends  Stock Splits  \n",
      "Date                                                          \n",
      "2025-01-02 00:00:00-05:00  16896500        0.0           0.0  \n",
      "2025-01-03 00:00:00-05:00  16662900        0.0           0.0  \n",
      "2025-01-06 00:00:00-05:00  20573600        0.0           0.0  \n",
      "2025-01-07 00:00:00-05:00  18139100        0.0           0.0  \n",
      "2025-01-08 00:00:00-05:00  15054600        0.0           0.0  \n",
      "2025-01-10 00:00:00-05:00  20201100        0.0           0.0  \n",
      "2025-01-13 00:00:00-05:00  17604800        0.0           0.0  \n",
      "2025-01-14 00:00:00-05:00  16935900        0.0           0.0  \n",
      "2025-01-15 00:00:00-05:00  19637800        0.0           0.0  \n",
      "2025-01-16 00:00:00-05:00  15300000        0.0           0.0  \n",
      "2025-01-17 00:00:00-05:00  26197500        0.0           0.0  \n"
     ]
    }
   ],
   "source": [
    "\n",
    "#! Função para obter o o histórico de preços de determinada ação definindo o período de busca\n",
    "def get_historical_data(ticker, start_date, end_date):\n",
    "\n",
    "    try:\n",
    "        # Baixa os dados do 'ticker' usando a API do yfinance\n",
    "        stock = yf.Ticker(ticker)\n",
    "\n",
    "        # Baixa o histórico dos preços entre duas datas\n",
    "        history = stock.history(start=start_date, end=end_date)\n",
    "        return history\n",
    "    \n",
    "    except Exception as e:\n",
    "        print(f\"Erro ao obter histórico de preços para {ticker}: {e}\")\n",
    "        return None\n",
    "\n",
    "\n",
    "#? Execução do código\n",
    "if __name__ == \"__main__\":\n",
    "\n",
    "    # Definindo os argumentos de teste\n",
    "    ticker = \"MSFT\"             # Exemplo do ticker: Apple\n",
    "    start_date = \"2025-01-01\"   # Início da busca ao histórico de preços do ticker\n",
    "    end_date = \"2025-01-20\"     # Fim da busca ao histórico de preços do ticker\n",
    "\n",
    "\n",
    "    # Chamando as funções\n",
    "    price = get_stock_price(ticker)\n",
    "    historical_data = get_historical_data(ticker, start_date, end_date)\n",
    "\n",
    "\n",
    "    # Condicionais\n",
    "    if price:\n",
    "        # Se conseguiu extrair o preço, exibe o preço atual\n",
    "        print(f\"O preço atual da ação {ticker} é: ${price}\")\n",
    "    else:\n",
    "        # Se não conseguiu realizar a operação, já o identifica\n",
    "        print(f\"Não foi possível obter o preço para {ticker}.\")\n",
    "\n",
    "    if historical_data is not None:\n",
    "        # Se conseguiu extrair o histórico de preços, exibe-o\n",
    "        print(f\"Histórico de preços para {ticker}:\\n{historical_data}\")\n",
    "    else:\n",
    "        # Se não conseguiu realizar a operação, há este aviso\n",
    "        print(f\"Não foi possível obter o histórico para {ticker}.\")"
   ]
  },
  {
   "cell_type": "markdown",
   "metadata": {},
   "source": [
    "É possível verificar a eficiência e utilidade na extração dos dados do histórico, o qual permite verificar dia a dia as seguintes informações: a abertura; a máxima; a mínima; o fechamento; o volume; os dividendos; e o split de ações. Com isso os analistas conseguem verificar a volatilidade do mercado para essa determinada ação, as tendências de aumento e demais dados importantes a serem analisados."
   ]
  }
 ],
 "metadata": {
  "kernelspec": {
   "display_name": "Python 3",
   "language": "python",
   "name": "python3"
  },
  "language_info": {
   "codemirror_mode": {
    "name": "ipython",
    "version": 3
   },
   "file_extension": ".py",
   "mimetype": "text/x-python",
   "name": "python",
   "nbconvert_exporter": "python",
   "pygments_lexer": "ipython3",
   "version": "3.12.8"
  }
 },
 "nbformat": 4,
 "nbformat_minor": 2
}
