{
 "cells": [
  {
   "cell_type": "markdown",
   "metadata": {},
   "source": [
    "# Avaliação Técnica - Vaga Software Engineer Intern 2025.1 - Acorn Advisory"
   ]
  },
  {
   "cell_type": "markdown",
   "metadata": {},
   "source": [
    "- Este arquivo conterá as informações da Avaliação Técnica pedida, além do desenvolvemento do passo a passo do desafio técnico, mostrando a progressão até a conclusão do que foi solicitado.\n",
    "\n",
    "- Este é a 2ª e penúltima fase do processo seletivo.\n",
    "\n",
    "- Consiste de uma pergunta e um desafio técnico a ser enviado num formulário.\n",
    "\n",
    "- A data para a realização deste desafio e envio do formulário é até 27/01/2025 às 14:00.\n"
   ]
  },
  {
   "cell_type": "markdown",
   "metadata": {},
   "source": [
    "```py\n",
    "```\n",
    "### Avaliação:\n",
    "\n",
    "Durante uma reunião semanal, um dos analistas de M&A da Acorn mencionou uma dificuldade operacional recorrente: a tarefa de inserir manualmente dados de uma planilha como input para buscas em um site de informações e coletar manualmente os resultados um a um. Essa atividade, repetitiva e manual, consome tempo e gera ineficiências no processo. Dado este cenário, descreva detalhadamente o que você faria para ajudar:\n"
   ]
  },
  {
   "cell_type": "markdown",
   "metadata": {},
   "source": []
  },
  {
   "cell_type": "markdown",
   "metadata": {},
   "source": [
    "```py\n",
    "```\n",
    "### Desafio Técnico\n",
    "\n",
    "Agora é hora de criar! Baseado no cenário acima, crie um projeto em Python que automatize um processo análogo ao descrito. Você deve escolher:\n",
    "\n",
    "1. Um site de buscas de informações para fazer a extração de dados;\n",
    "2. Um formato de input (deve ser uma planilha, mas a formatação dela fica a seu critério);\n",
    "3. Os dados a serem extraídos bem como o output.\n",
    "\n",
    "Ou seja, você irá simular uma tarefa comum de desenvolvimento de automações. Para isso, você deve fornecer **abaixo um link público de um repositório do GitHub** contendo:\n",
    "\n",
    "- Arquivo Readme;\n",
    "- Arquivo exemplo de input;\n",
    "- Arquivo(s) contendo o(s) código(s);\n",
    "- Executável .exe da automação;\n",
    "- Arquivo exemplo de output.\n",
    "\n",
    "Tudo será avaliado, então certifique-se de deixar tudo funcionando e bem explicado.\n",
    "\n",
    "OBS: Tenha em mente que você está simulando estar realizando uma tarefa para um analista de M&A, o qual não tem acesso a linguagens de programação instaladas, nem compiladores ou IDEs, por isso a importância do executável funcionando."
   ]
  },
  {
   "cell_type": "markdown",
   "metadata": {},
   "source": [
    "```py\n",
    "```\n",
    "## Passo a Passo do Desenvolvimento deste Projeto\n",
    "```py\n",
    "```\n",
    "#### Escolha do Site de Busca e ferramenta para extração de dados\n",
    "\n",
    "Primeiramente, mesmo que seja um desafio de código, levando em conta uma situação real que ajudaria analistas de M&A, e visto que a Acorn Adviosory é uma empresa de consultoria financeira, eu escolhi utilizar um site de busca com a finalidade da empresa, ou seja, um site de busca sobre finanças e que esteja alinhado ao mercado. Tendo isso em vista, eu optei por utilizar o **Yahoo! Finance**.\n",
    "\n",
    "Para realizar a extração de dados do site, inicialmente eu tentei através de um pacote do Python chamado **Beautiful Soap**, o qual é um software utilizado para analisar documentos HTML e XML, facilitando bem no web scraping, entretanto estava dando muito erro de conexão SSL e como o Yahoo Finance é dinâmico e carregado pelo JavaScript, o Beautifulsoap não consegue acessar sozinho. Após essa tentativa tentei utilizar outro pacote, o **Selenium**, mas também davam os mesmos erros e não foi possível a extração dos dados financeiros.\n",
    "\n",
    "Pesquisei bastante e consegui encontrar uma ferramenta de código aberto que utiliza das APIs públicas do Yahoo Finance e a partir dela, conseguir extrair informações. Essa ferramenta é a **yfinance** e com ela consegui realizar meu objtivo inicialmente, acessando dados de ações, por exemplo, do Yahoo Finance. Com isso, tem-se:\n",
    "\n",
    "1 - Site de busca utilizado: **Yahoo! Finance**; https://finance.yahoo.com/\n",
    "\n",
    "2 - Linguagem de Programação utilizada: **Python**\n",
    "\n",
    "3 - Ferramenta de código aberto para extração dos dados: **yfinance** "
   ]
  }
 ],
 "metadata": {
  "language_info": {
   "name": "python"
  }
 },
 "nbformat": 4,
 "nbformat_minor": 2
}
